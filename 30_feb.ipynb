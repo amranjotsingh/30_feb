{
 "cells": [
  {
   "cell_type": "code",
   "execution_count": 1,
   "id": "26917ea3-118f-44c7-8e26-8be6e51a23e5",
   "metadata": {},
   "outputs": [],
   "source": [
    "# Question no-1"
   ]
  },
  {
   "cell_type": "code",
   "execution_count": 19,
   "id": "dee0ee92-27a9-46ef-903a-023b61fbceb2",
   "metadata": {},
   "outputs": [
    {
     "name": "stdin",
     "output_type": "stream",
     "text": [
      "Enter your marks here 55\n"
     ]
    },
    {
     "name": "stdout",
     "output_type": "stream",
     "text": [
      "Grade D\n"
     ]
    }
   ],
   "source": [
    "marks = int(input(\"Enter your marks here\"))\n",
    "if marks >90:\n",
    "    print(\"Grade A\")\n",
    "elif marks >80 and marks<= 90:\n",
    "    print('Grade B')\n",
    "elif marks >=60 and marks<=80:\n",
    "    print('Grade C')\n",
    "else:\n",
    "    print(\"Grade D\")"
   ]
  },
  {
   "cell_type": "code",
   "execution_count": 10,
   "id": "8d352ce1-d543-45fe-8599-a8a4ff3233cd",
   "metadata": {},
   "outputs": [],
   "source": [
    "# Question no 2"
   ]
  },
  {
   "cell_type": "code",
   "execution_count": 20,
   "id": "81b421fe-66db-4f34-bc79-fe95f4eaa5ef",
   "metadata": {},
   "outputs": [
    {
     "name": "stdin",
     "output_type": "stream",
     "text": [
      "Enter cost price of a bike 40000\n"
     ]
    },
    {
     "name": "stdout",
     "output_type": "stream",
     "text": [
      "Tax to be paid is 2000.0\n"
     ]
    }
   ],
   "source": [
    "cost = int(input(\"Enter cost price of a bike\"))\n",
    "if cost >100000:\n",
    "    tax = cost*15/100\n",
    "    print('Tax to be paid is', tax)\n",
    "elif cost >50000 and cost<=100000:\n",
    "    tax = cost*10/100\n",
    "    print('Tax to be paid is', tax)\n",
    "else:\n",
    "    tax = cost*5/100\n",
    "    print('Tax to be paid is', tax)"
   ]
  },
  {
   "cell_type": "code",
   "execution_count": 21,
   "id": "71ae801f-6f85-4c6c-8b93-b93c6a0a67c4",
   "metadata": {},
   "outputs": [],
   "source": [
    "# Question no - 3"
   ]
  },
  {
   "cell_type": "code",
   "execution_count": 29,
   "id": "c3e5b499-ffa4-4095-80ea-4aeb7d5f8559",
   "metadata": {},
   "outputs": [
    {
     "name": "stdin",
     "output_type": "stream",
     "text": [
      "Enter your city name Jaipur\n"
     ]
    },
    {
     "name": "stdout",
     "output_type": "stream",
     "text": [
      "Monument = Jai Mahal\n"
     ]
    }
   ],
   "source": [
    "a = \"Delhi\"\n",
    "b= \"Agra\"\n",
    "c = \"Jaipur\"\n",
    "\n",
    "\n",
    "city_name = input(\"Enter your city name\")\n",
    "if city_name == a:\n",
    "    print (\"Monument = Red fort\")\n",
    "elif city_name == b:\n",
    "    print(\"Monument = Taj Mahal\")\n",
    "elif city_name == c:\n",
    "    print(\"Monument = Jai Mahal\")\n",
    "    \n",
    "else:\n",
    "    print(\"I have no knowledge of that\")\n",
    " "
   ]
  },
  {
   "cell_type": "code",
   "execution_count": 30,
   "id": "d9371a1b-f9a2-4f7f-abda-e4cbcb8aaeef",
   "metadata": {},
   "outputs": [],
   "source": [
    "# Question - Check how many times a given number can be divided by 3 before it is less than\n",
    "# or equal to 10."
   ]
  },
  {
   "cell_type": "code",
   "execution_count": 34,
   "id": "803d734b-3454-439a-95d4-fdc9d068df96",
   "metadata": {},
   "outputs": [
    {
     "name": "stdin",
     "output_type": "stream",
     "text": [
      "Enter a number:  6\n"
     ]
    },
    {
     "name": "stdout",
     "output_type": "stream",
     "text": [
      "The number can be divided by 3, 0 times before it is less than or equal to 10.\n"
     ]
    }
   ],
   "source": [
    "num = int(input(\"Enter a number: \"))\n",
    "count = 0\n",
    "\n",
    "while num > 10:\n",
    "    num = num / 3\n",
    "    count += 1\n",
    "\n",
    "print(\"The number can be divided by 3,\", count, \"times before it is less than or equal to 10.\")\n"
   ]
  },
  {
   "cell_type": "code",
   "execution_count": 35,
   "id": "acc4029c-5673-4c8c-b012-29280b7791c2",
   "metadata": {},
   "outputs": [],
   "source": [
    "# Why and when to use while loop in python give a detailed description with example?"
   ]
  },
  {
   "cell_type": "code",
   "execution_count": 36,
   "id": "07c6dfd1-20e2-4f5d-8567-1792dff4f0a4",
   "metadata": {},
   "outputs": [],
   "source": [
    "# A while loop is a type of loop in Python that repeats a set of statements as long as a particular\n",
    "# condition is true. While loops are useful when we don't know how many times a loop \n",
    "# should run before it begins executing.\n",
    "\n",
    "# The condition is a Boolean expression that is evaluated before each iteration of the loop. \n",
    "# If the condition is True, the code inside the loop is executed.\n",
    "# This process continues until the condition becomes False.\n",
    "\n",
    "# Here is an example that uses a while loop to print the numbers from 1 to 5:\n"
   ]
  },
  {
   "cell_type": "code",
   "execution_count": 37,
   "id": "078eb8c0-96ae-46a9-be21-57783cae95f3",
   "metadata": {},
   "outputs": [
    {
     "name": "stdout",
     "output_type": "stream",
     "text": [
      "1\n",
      "2\n",
      "3\n",
      "4\n",
      "5\n"
     ]
    }
   ],
   "source": [
    "i = 1\n",
    "while i <= 5:\n",
    "    print(i)\n",
    "    i = i + 1\n"
   ]
  },
  {
   "cell_type": "code",
   "execution_count": 38,
   "id": "f6028c9d-8a18-47a9-8c35-0dacd52c21cd",
   "metadata": {},
   "outputs": [],
   "source": [
    "# Use nested while loop to print 3 different pattern?"
   ]
  },
  {
   "cell_type": "code",
   "execution_count": 39,
   "id": "e8164554-a309-4d5d-83be-b5ba87a69bc7",
   "metadata": {},
   "outputs": [
    {
     "name": "stdout",
     "output_type": "stream",
     "text": [
      "1\n",
      "12\n",
      "123\n",
      "1234\n",
      "12345\n"
     ]
    }
   ],
   "source": [
    "i = 1\n",
    "while i <= 5:\n",
    "    j = 1\n",
    "    while j <= i:\n",
    "        print(j, end='')\n",
    "        j += 1\n",
    "    print()\n",
    "    i += 1\n"
   ]
  },
  {
   "cell_type": "code",
   "execution_count": 40,
   "id": "26cd309c-cc4b-4b58-93af-cd473e58f8d3",
   "metadata": {},
   "outputs": [
    {
     "name": "stdout",
     "output_type": "stream",
     "text": [
      "*****\n",
      "****\n",
      "***\n",
      "**\n",
      "*\n"
     ]
    }
   ],
   "source": [
    "i = 5\n",
    "while i >= 1:\n",
    "    j = 1\n",
    "    while j <= i:\n",
    "        print('*', end='')\n",
    "        j += 1\n",
    "    print()\n",
    "    i -= 1\n"
   ]
  },
  {
   "cell_type": "code",
   "execution_count": 41,
   "id": "1570be36-8162-4a59-9287-b4e20496fff0",
   "metadata": {},
   "outputs": [
    {
     "name": "stdout",
     "output_type": "stream",
     "text": [
      "1\n",
      "22\n",
      "333\n",
      "4444\n",
      "55555\n"
     ]
    }
   ],
   "source": [
    "i = 1\n",
    "while i <= 5:\n",
    "    j = 1\n",
    "    while j <= i:\n",
    "        print(i, end='')\n",
    "        j += 1\n",
    "    print()\n",
    "    i += 1\n"
   ]
  },
  {
   "cell_type": "code",
   "execution_count": 43,
   "id": "2a1f16bc-bc1f-4d33-9a1c-40ca25ae8728",
   "metadata": {},
   "outputs": [],
   "source": [
    "# Reverse while loop to display numbers from 10 to 1?"
   ]
  },
  {
   "cell_type": "code",
   "execution_count": 44,
   "id": "bd2b955c-538a-445e-87ef-88d850f721b0",
   "metadata": {},
   "outputs": [
    {
     "name": "stdout",
     "output_type": "stream",
     "text": [
      "10\n",
      "9\n",
      "8\n",
      "7\n",
      "6\n",
      "5\n",
      "4\n",
      "3\n",
      "2\n",
      "1\n"
     ]
    }
   ],
   "source": [
    "i = 10\n",
    "while i >= 1:\n",
    "    print(i)\n",
    "    i -= 1\n"
   ]
  }
 ],
 "metadata": {
  "kernelspec": {
   "display_name": "Python 3 (ipykernel)",
   "language": "python",
   "name": "python3"
  },
  "language_info": {
   "codemirror_mode": {
    "name": "ipython",
    "version": 3
   },
   "file_extension": ".py",
   "mimetype": "text/x-python",
   "name": "python",
   "nbconvert_exporter": "python",
   "pygments_lexer": "ipython3",
   "version": "3.10.8"
  }
 },
 "nbformat": 4,
 "nbformat_minor": 5
}
